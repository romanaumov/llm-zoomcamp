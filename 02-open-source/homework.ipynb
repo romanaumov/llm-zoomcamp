{
 "cells": [
  {
   "cell_type": "markdown",
   "id": "b9808bbb",
   "metadata": {},
   "source": [
    "### Question 1 \n",
    "\n",
    "#### What's the version of ollama client?"
   ]
  },
  {
   "cell_type": "code",
   "execution_count": 22,
   "id": "4a2efd1c",
   "metadata": {},
   "outputs": [
    {
     "name": "stdout",
     "output_type": "stream",
     "text": [
      "ollama version is 0.1.48\n"
     ]
    }
   ],
   "source": [
    "!ollama -v"
   ]
  },
  {
   "cell_type": "markdown",
   "id": "e581440e",
   "metadata": {},
   "source": [
    "### Question 2\n",
    "\n",
    "#### What's the content of the file related to gemma?"
   ]
  },
  {
   "cell_type": "markdown",
   "id": "52f6d803",
   "metadata": {},
   "source": [
    "How to get answer - run commands inside a docker container\n",
    "\n",
    "!cd /root/.ollama/models/manifests/registry.ollama.ai/library/gemma\n",
    "\n",
    "!cat 2b"
   ]
  },
  {
   "cell_type": "markdown",
   "id": "58de87b8",
   "metadata": {},
   "source": [
    "{\"schemaVersion\":2,\"mediaType\":\"application/vnd.docker.distribution.manifest.v2+json\",\"config\":{\"mediaType\":\"application/vnd.docker.container.image.v1+json\",\"digest\":\"sha256:887433b89a901c156f7e6944442f3c9e57f3c55d6ed52042cbb7303aea994290\",\"size\":483},\"layers\":[{\"mediaType\":\"application/vnd.ollama.image.model\",\"digest\":\"sha256:c1864a5eb19305c40519da12cc543519e48a0697ecd30e15d5ac228644957d12\",\"size\":1678447520},{\"mediaType\":\"application/vnd.ollama.image.license\",\"digest\":\"sha256:097a36493f718248845233af1d3fefe7a303f864fae13bc31a3a9704229378ca\",\"size\":8433},{\"mediaType\":\"application/vnd.ollama.image.template\",\"digest\":\"sha256:109037bec39c0becc8221222ae23557559bc594290945a2c4221ab4f303b8871\",\"size\":136},{\"mediaType\":\"application/vnd.ollama.image.params\",\"digest\":\"sha256:22a838ceb7fb22755a3b0ae9b4eadde629d19be1f651f73efb8c6b4e2cd0eea0\",\"size\":84}]}"
   ]
  },
  {
   "cell_type": "markdown",
   "id": "bda63f12",
   "metadata": {},
   "source": [
    "### Question 3\n",
    "\n",
    "#### Test the following prompt: \"10 * 10\". What's the answer?"
   ]
  },
  {
   "cell_type": "markdown",
   "id": "b4dfdb5a",
   "metadata": {},
   "source": [
    "Sure, here's the answer to your question:\n",
    "\n",
    "10 * 10 = 100."
   ]
  },
  {
   "cell_type": "markdown",
   "id": "a00ae623",
   "metadata": {},
   "source": [
    "### Question 4\n",
    "\n",
    "#### What's the size of the ollama_files/models folder?"
   ]
  },
  {
   "cell_type": "markdown",
   "id": "99a59250",
   "metadata": {},
   "source": [
    "$ du -h\n",
    "\n",
    "1.6G    ./models/blobs\n",
    "\n",
    "8.0K    ./models/manifests/registry.ollama.ai/library/gemma\n",
    "\n",
    "12K     ./models/manifests/registry.ollama.ai/library\n",
    "\n",
    "16K     ./models/manifests/registry.ollama.ai\n",
    "\n",
    "20K     ./models/manifests\n",
    "\n",
    "1.6G    ./models\n",
    "\n",
    "1.6G    .\n",
    "\n",
    "Answer is the following:\n",
    "\n",
    "The size of folder is 1.7G"
   ]
  },
  {
   "cell_type": "markdown",
   "id": "6cb0075e",
   "metadata": {},
   "source": [
    "### Question 5\n",
    "\n",
    "#### What do you put after COPY?"
   ]
  },
  {
   "cell_type": "markdown",
   "id": "07f12bf2",
   "metadata": {},
   "source": [
    "FROM ollama/ollama\n",
    "\n",
    "COPY ./ollama_files /root/.ollama/"
   ]
  },
  {
   "cell_type": "markdown",
   "id": "c248c07b",
   "metadata": {},
   "source": [
    "### Question 6\n",
    "\n",
    "#### How many completion tokens did you get in response?\n",
    "\n",
    "#### Answer is 283 (the closest option is 304)"
   ]
  },
  {
   "cell_type": "code",
   "execution_count": 23,
   "id": "ef8e9cdc-dfd4-4e54-a332-4b9bde4e6047",
   "metadata": {},
   "outputs": [],
   "source": [
    "from openai import OpenAI\n",
    "\n",
    "client = OpenAI(\n",
    "    base_url='http://localhost:11434/v1/',\n",
    "    api_key='ollama',\n",
    ")"
   ]
  },
  {
   "cell_type": "code",
   "execution_count": 27,
   "id": "ed5a85f2",
   "metadata": {},
   "outputs": [],
   "source": [
    "query = \"What's the formula for energy?\"\n",
    "\n",
    "def llm(prompt):\n",
    "    response = client.chat.completions.create(\n",
    "        temperature=0.0,\n",
    "        model='gemma:2b',\n",
    "        messages=[{\"role\": \"user\", \"content\": prompt}]\n",
    "    )\n",
    "    \n",
    "    return response.choices[0].message.content\n",
    "\n",
    "response = llm(query)\n"
   ]
  },
  {
   "cell_type": "code",
   "execution_count": 28,
   "id": "005b0855",
   "metadata": {},
   "outputs": [
    {
     "name": "stdout",
     "output_type": "stream",
     "text": [
      "Sure, here's the formula for energy:\n",
      "\n",
      "**E = K + U**\n",
      "\n",
      "Where:\n",
      "\n",
      "* **E** is the energy in joules (J)\n",
      "* **K** is the kinetic energy in joules (J)\n",
      "* **U** is the potential energy in joules (J)\n",
      "\n",
      "**Kinetic energy (K)** is the energy an object possesses when it moves or is in motion. It is calculated as half the product of an object's mass (m) and its velocity (v) squared:\n",
      "\n",
      "**K = 1/2 * m * v^2**\n",
      "\n",
      "**Potential energy (U)** is the energy an object possesses when it is in a position or has a specific configuration. It is calculated as the product of an object's mass and the gravitational constant (g) multiplied by the height or distance of the object from a reference point.\n",
      "\n",
      "**Gravitational potential energy (U)** is given by the formula:\n",
      "\n",
      "**U = mgh**\n",
      "\n",
      "Where:\n",
      "\n",
      "* **m** is the mass of the object in kilograms (kg)\n",
      "* **g** is the acceleration due to gravity in meters per second squared (m/s^2)\n",
      "* **h** is the height or distance of the object in meters (m)\n",
      "\n",
      "The formula for energy can be used to calculate the total energy of an object, the energy of a specific part of an object, or the change in energy of an object over time.\n"
     ]
    }
   ],
   "source": [
    "print(response)"
   ]
  },
  {
   "cell_type": "code",
   "execution_count": 29,
   "id": "184a32bb",
   "metadata": {},
   "outputs": [
    {
     "name": "stdout",
     "output_type": "stream",
     "text": [
      "The length of list of tokens is: 283\n",
      "\n"
     ]
    }
   ],
   "source": [
    "import tiktoken\n",
    "encoding = tiktoken.encoding_for_model(\"gpt-4o\")\n",
    "tokens = encoding.encode(response)\n",
    "print(f\"The length of list of tokens is: {len(tokens)}\\n\")"
   ]
  }
 ],
 "metadata": {
  "kernelspec": {
   "display_name": "Python 3 (ipykernel)",
   "language": "python",
   "name": "python3"
  },
  "language_info": {
   "codemirror_mode": {
    "name": "ipython",
    "version": 3
   },
   "file_extension": ".py",
   "mimetype": "text/x-python",
   "name": "python",
   "nbconvert_exporter": "python",
   "pygments_lexer": "ipython3",
   "version": "3.10.12"
  }
 },
 "nbformat": 4,
 "nbformat_minor": 5
}
