{
 "cells": [
  {
   "cell_type": "code",
   "execution_count": 1,
   "id": "3607f74f-9946-4387-988a-a68666ad4790",
   "metadata": {},
   "outputs": [],
   "source": [
    "import json\n",
    "import anthropic\n",
    "import requests\n",
    "import openai\n",
    "import tiktoken\n",
    "\n",
    "from elasticsearch import Elasticsearch\n",
    "from tqdm.auto import tqdm\n"
   ]
  },
  {
   "cell_type": "code",
   "execution_count": 2,
   "id": "9aad7e2c",
   "metadata": {},
   "outputs": [],
   "source": [
    "CONFIG = \"config.json\"\n",
    "# Read the JSON file to read api key\n",
    "with open(CONFIG, 'r') as file:\n",
    "    data = json.load(file)\n",
    "\n",
    "api_key = data[\"api-key\"]"
   ]
  },
  {
   "cell_type": "code",
   "execution_count": 3,
   "id": "7c782dcf-1aca-407b-8585-f9d80f300396",
   "metadata": {},
   "outputs": [],
   "source": [
    "client = anthropic.Anthropic(api_key=api_key)"
   ]
  },
  {
   "cell_type": "code",
   "execution_count": 4,
   "id": "48aa177f-c5e9-4d33-aff3-58869fd227b5",
   "metadata": {},
   "outputs": [],
   "source": [
    "def llm(prompt):\n",
    "    response = client.messages.create(\n",
    "        # model=\"claude-3-opus-20240229\",\n",
    "        # model=\"claude-3-haiku-20240307\",\n",
    "        model=\"claude-3-sonnet-20240229\",\n",
    "        max_tokens=1024,\n",
    "        messages=[\n",
    "            {\"role\": \"user\", \"content\": prompt}\n",
    "        ]\n",
    "    )\n",
    "    return response.content[0].text"
   ]
  },
  {
   "cell_type": "markdown",
   "id": "e6e4938b",
   "metadata": {},
   "source": [
    "### Homework tasks"
   ]
  },
  {
   "cell_type": "code",
   "execution_count": 5,
   "id": "c45d6e1b",
   "metadata": {},
   "outputs": [],
   "source": [
    "docs_url = 'https://github.com/DataTalksClub/llm-zoomcamp/blob/main/01-intro/documents.json?raw=1'\n",
    "docs_response = requests.get(docs_url)\n",
    "documents_raw = docs_response.json()\n",
    "\n",
    "documents = []\n",
    "\n",
    "for course in documents_raw:\n",
    "    course_name = course['course']\n",
    "\n",
    "    for doc in course['documents']:\n",
    "        doc['course'] = course_name\n",
    "        documents.append(doc)"
   ]
  },
  {
   "cell_type": "code",
   "execution_count": 6,
   "id": "ef9b94cf",
   "metadata": {},
   "outputs": [],
   "source": [
    "query_hw = \"How do I execute a command in a running docker container?\""
   ]
  },
  {
   "cell_type": "code",
   "execution_count": 7,
   "id": "4c98e532",
   "metadata": {},
   "outputs": [
    {
     "data": {
      "text/plain": [
       "ObjectApiResponse({'name': '703e4181e920', 'cluster_name': 'docker-cluster', 'cluster_uuid': 'XFUwYlSGRmuDbmIJ3mjrsg', 'version': {'number': '8.4.3', 'build_flavor': 'default', 'build_type': 'docker', 'build_hash': '42f05b9372a9a4a470db3b52817899b99a76ee73', 'build_date': '2022-10-04T07:17:24.662462378Z', 'build_snapshot': False, 'lucene_version': '9.3.0', 'minimum_wire_compatibility_version': '7.17.0', 'minimum_index_compatibility_version': '7.0.0'}, 'tagline': 'You Know, for Search'})"
      ]
     },
     "execution_count": 7,
     "metadata": {},
     "output_type": "execute_result"
    }
   ],
   "source": [
    "es_client = Elasticsearch('http://localhost:9200')\n",
    "es_client.info()"
   ]
  },
  {
   "cell_type": "code",
   "execution_count": 8,
   "id": "25501af4",
   "metadata": {},
   "outputs": [
    {
     "data": {
      "text/plain": [
       "ObjectApiResponse({'acknowledged': True, 'shards_acknowledged': True, 'index': 'hw_course-questions'})"
      ]
     },
     "execution_count": 8,
     "metadata": {},
     "output_type": "execute_result"
    }
   ],
   "source": [
    "index_settings = {\n",
    "    \"settings\": {\n",
    "        \"number_of_shards\": 1,\n",
    "        \"number_of_replicas\": 0\n",
    "    },\n",
    "    \"mappings\": {\n",
    "        \"properties\": {\n",
    "            \"text\": {\"type\": \"text\"},\n",
    "            \"section\": {\"type\": \"text\"},\n",
    "            \"question\": {\"type\": \"text\"},\n",
    "            \"course\": {\"type\": \"keyword\"} \n",
    "        }\n",
    "    }\n",
    "}\n",
    "\n",
    "index_name = \"hw_course-questions\"\n",
    "\n",
    "es_client.indices.create(index=index_name, body=index_settings)\n"
   ]
  },
  {
   "cell_type": "code",
   "execution_count": 9,
   "id": "038b444d",
   "metadata": {},
   "outputs": [
    {
     "data": {
      "application/vnd.jupyter.widget-view+json": {
       "model_id": "d897943a4e824174a5f37fe3a114b227",
       "version_major": 2,
       "version_minor": 0
      },
      "text/plain": [
       "  0%|          | 0/948 [00:00<?, ?it/s]"
      ]
     },
     "metadata": {},
     "output_type": "display_data"
    }
   ],
   "source": [
    "for doc in tqdm(documents):\n",
    "    es_client.index(index=index_name, document=doc)"
   ]
  },
  {
   "cell_type": "markdown",
   "id": "91a16791",
   "metadata": {},
   "source": [
    "#### Question 3"
   ]
  },
  {
   "cell_type": "code",
   "execution_count": 10,
   "id": "d2d2ce07",
   "metadata": {},
   "outputs": [],
   "source": [
    "def elastic_search_hw(query):\n",
    "\n",
    "    search_query = {\n",
    "        \"size\": 5,\n",
    "        \"query\": {\n",
    "            \"bool\": {\n",
    "                \"must\": {\n",
    "                    \"multi_match\": {\n",
    "                        \"query\": query,\n",
    "                        \"fields\": [\"question^4\", \"text\"],\n",
    "                        \"type\": \"best_fields\"\n",
    "                    }\n",
    "                },\n",
    "            }\n",
    "        }\n",
    "    }\n",
    "    \n",
    "    response = es_client.search(index=index_name, body=search_query)\n",
    "    \n",
    "    result_docs = []\n",
    "\n",
    "    for hit in response['hits']['hits']:\n",
    "        result_docs.append(hit)\n",
    "    \n",
    "    return result_docs"
   ]
  },
  {
   "cell_type": "code",
   "execution_count": 11,
   "id": "db549df9",
   "metadata": {},
   "outputs": [
    {
     "name": "stdout",
     "output_type": "stream",
     "text": [
      "The Top SCORE: 83.480255\n"
     ]
    }
   ],
   "source": [
    "search_results = elastic_search_hw(query_hw)\n",
    "\n",
    "print(f\"The Top SCORE: {search_results[0].get('_score')}\")"
   ]
  },
  {
   "cell_type": "code",
   "execution_count": 12,
   "id": "f3d0802f",
   "metadata": {},
   "outputs": [
    {
     "name": "stdout",
     "output_type": "stream",
     "text": [
      "SOURCE: {'text': 'Launch the container image in interactive mode and overriding the entrypoint, so that it starts a bash command.\\ndocker run -it --entrypoint bash <image>\\nIf the container is already running, execute a command in the specific container:\\ndocker ps (find the container-id)\\ndocker exec -it <container-id> bash\\n(Marcos MJD)', 'section': '5. Deploying Machine Learning Models', 'question': 'How do I debug a docker container?', 'course': 'machine-learning-zoomcamp'} \n",
      "SCORE: 83.480255\n",
      "SOURCE: {'text': 'In case running pgcli  locally causes issues or you do not want to install it locally you can use it running in a Docker container instead.\\nBelow the usage with values used in the videos of the course for:\\nnetwork name (docker network)\\npostgres related variables for pgcli\\nHostname\\nUsername\\nPort\\nDatabase name\\n$ docker run -it --rm --network pg-network ai2ys/dockerized-pgcli:4.0.1\\n175dd47cda07:/# pgcli -h pg-database -U root -p 5432 -d ny_taxi\\nPassword for root:\\nServer: PostgreSQL 16.1 (Debian 16.1-1.pgdg120+1)\\nVersion: 4.0.1\\nHome: http://pgcli.com\\nroot@pg-database:ny_taxi> \\\\dt\\n+--------+------------------+-------+-------+\\n| Schema | Name             | Type  | Owner |\\n|--------+------------------+-------+-------|\\n| public | yellow_taxi_data | table | root  |\\n+--------+------------------+-------+-------+\\nSELECT 1\\nTime: 0.009s\\nroot@pg-database:ny_taxi>', 'section': 'Module 1: Docker and Terraform', 'question': 'PGCLI - running in a Docker container', 'course': 'data-engineering-zoomcamp'} \n",
      "SCORE: 75.71783\n",
      "SOURCE: {'text': 'If you are trying to run Flask gunicorn & MLFlow server from the same container, defining both in Dockerfile with CMD will only run MLFlow & not Flask.\\nSolution: Create separate shell script with server run commands, for eg:\\n> \\tscript1.sh\\n#!/bin/bash\\ngunicorn --bind=0.0.0.0:9696 predict:app\\nAnother script with e.g. MLFlow server:\\n>\\tscript2.sh\\n#!/bin/bash\\nmlflow server -h 0.0.0.0 -p 5000 --backend-store-uri=sqlite:///mlflow.db --default-artifact-root=g3://zc-bucket/mlruns/\\nCreate a wrapper script to run above 2 scripts:\\n>\\twrapper_script.sh\\n#!/bin/bash\\n# Start the first process\\n./script1.sh &\\n# Start the second process\\n./script2.sh &\\n# Wait for any process to exit\\nwait -n\\n# Exit with status of process that exited first\\nexit $?\\nGive executable permissions to all scripts:\\nchmod +x *.sh\\nNow we can define last line of Dockerfile as:\\n> \\tDockerfile\\nCMD ./wrapper_script.sh\\nDont forget to expose all ports defined by services!', 'section': 'Module 4: Deployment', 'question': 'Running multiple services in a Docker container', 'course': 'mlops-zoomcamp'} \n",
      "SCORE: 72.25954\n",
      "SOURCE: {'text': \"You can copy files from your local machine into a Docker container using the docker cp command. Here's how to do it:\\nTo copy a file or directory from your local machine into a running Docker container, you can use the `docker cp command`. The basic syntax is as follows:\\ndocker cp /path/to/local/file_or_directory container_id:/path/in/container\\nHrithik Kumar Advani\", 'section': '5. Deploying Machine Learning Models', 'question': 'How do I copy files from my local machine to docker container?', 'course': 'machine-learning-zoomcamp'} \n",
      "SCORE: 50.72043\n",
      "SOURCE: {'text': 'You can copy files from your local machine into a Docker container using the docker cp command. Here\\'s how to do it:\\nIn the Dockerfile, you can provide the folder containing the files that you want to copy over. The basic syntax is as follows:\\nCOPY [\"src/predict.py\", \"models/xgb_model.bin\", \"./\"]\\t\\t\\t\\t\\t\\t\\t\\t\\t\\t\\tGopakumar Gopinathan', 'section': '5. Deploying Machine Learning Models', 'question': 'How do I copy files from a different folder into docker container’s working directory?', 'course': 'machine-learning-zoomcamp'} \n",
      "SCORE: 49.61703\n"
     ]
    }
   ],
   "source": [
    "# Scores for all 5 answers\n",
    "for item in search_results:\n",
    "    score = item.get('_score')\n",
    "    source = item.get('_source')\n",
    "    if (score is not None) and (source is not None):\n",
    "        print(f\"SOURCE: {source} \\nSCORE: {score}\")"
   ]
  },
  {
   "cell_type": "markdown",
   "id": "ee9857a1",
   "metadata": {},
   "source": [
    "#### Question 4"
   ]
  },
  {
   "cell_type": "code",
   "execution_count": 13,
   "id": "7496ae75",
   "metadata": {},
   "outputs": [],
   "source": [
    "def elastic_search_hw(query):\n",
    "\n",
    "    search_query = {\n",
    "        \"size\": 3,\n",
    "        \"query\": {\n",
    "            \"bool\": {\n",
    "                \"must\": {\n",
    "                    \"multi_match\": {\n",
    "                        \"query\": query,\n",
    "                        \"fields\": [\"question^4\", \"text\"],\n",
    "                        \"type\": \"best_fields\"\n",
    "                    }\n",
    "                },\n",
    "                \"filter\": {\n",
    "                    \"term\": {\n",
    "                        \"course\": \"machine-learning-zoomcamp\"\n",
    "                    }\n",
    "                }\n",
    "            }\n",
    "        }\n",
    "    }\n",
    "    \n",
    "    response = es_client.search(index=index_name, body=search_query)\n",
    "    \n",
    "    result_docs = []\n",
    "\n",
    "    for hit in response['hits']['hits']:\n",
    "        result_docs.append(hit)\n",
    "    \n",
    "    return result_docs"
   ]
  },
  {
   "cell_type": "code",
   "execution_count": 14,
   "id": "053c5ccd",
   "metadata": {},
   "outputs": [
    {
     "name": "stdout",
     "output_type": "stream",
     "text": [
      "3rd QUESTION: How do I copy files from a different folder into docker container’s working directory?\n"
     ]
    }
   ],
   "source": [
    "search_results = elastic_search_hw(query_hw)\n",
    "    \n",
    "print(f\"3rd QUESTION: {search_results[2].get('_source')['question']}\")"
   ]
  },
  {
   "cell_type": "code",
   "execution_count": 15,
   "id": "db29ccf9",
   "metadata": {},
   "outputs": [
    {
     "name": "stdout",
     "output_type": "stream",
     "text": [
      "QUESTION: How do I debug a docker container? \n",
      "SOURCE: {'text': 'Launch the container image in interactive mode and overriding the entrypoint, so that it starts a bash command.\\ndocker run -it --entrypoint bash <image>\\nIf the container is already running, execute a command in the specific container:\\ndocker ps (find the container-id)\\ndocker exec -it <container-id> bash\\n(Marcos MJD)', 'section': '5. Deploying Machine Learning Models', 'question': 'How do I debug a docker container?', 'course': 'machine-learning-zoomcamp'} \n",
      "SCORE: 83.480255\n",
      "QUESTION: How do I copy files from my local machine to docker container? \n",
      "SOURCE: {'text': \"You can copy files from your local machine into a Docker container using the docker cp command. Here's how to do it:\\nTo copy a file or directory from your local machine into a running Docker container, you can use the `docker cp command`. The basic syntax is as follows:\\ndocker cp /path/to/local/file_or_directory container_id:/path/in/container\\nHrithik Kumar Advani\", 'section': '5. Deploying Machine Learning Models', 'question': 'How do I copy files from my local machine to docker container?', 'course': 'machine-learning-zoomcamp'} \n",
      "SCORE: 50.72043\n",
      "QUESTION: How do I copy files from a different folder into docker container’s working directory? \n",
      "SOURCE: {'text': 'You can copy files from your local machine into a Docker container using the docker cp command. Here\\'s how to do it:\\nIn the Dockerfile, you can provide the folder containing the files that you want to copy over. The basic syntax is as follows:\\nCOPY [\"src/predict.py\", \"models/xgb_model.bin\", \"./\"]\\t\\t\\t\\t\\t\\t\\t\\t\\t\\t\\tGopakumar Gopinathan', 'section': '5. Deploying Machine Learning Models', 'question': 'How do I copy files from a different folder into docker container’s working directory?', 'course': 'machine-learning-zoomcamp'} \n",
      "SCORE: 49.61703\n"
     ]
    }
   ],
   "source": [
    "# All 3 questions, scores and sources\n",
    "for item in search_results:\n",
    "    score = item.get('_score')\n",
    "    source = item.get('_source')\n",
    "    question = source['question']\n",
    "    print(f\"QUESTION: {question} \\nSOURCE: {source} \\nSCORE: {score}\")"
   ]
  },
  {
   "cell_type": "markdown",
   "id": "3fe2ab71",
   "metadata": {},
   "source": [
    "#### Question 5"
   ]
  },
  {
   "cell_type": "code",
   "execution_count": 16,
   "id": "0016a045",
   "metadata": {},
   "outputs": [],
   "source": [
    "def build_prompt_hw(query, search_results):\n",
    "    \n",
    "    context_template = \"\"\"\n",
    "    Q: {question}\n",
    "    A: {text}\n",
    "    \"\"\".strip()\n",
    "\n",
    "    prompt_template = \"\"\"\n",
    "    You're a course teaching assistant. Answer the QUESTION based on the CONTEXT from the FAQ database.\n",
    "    Use only the facts from the CONTEXT when answering the QUESTION.\n",
    "\n",
    "    QUESTION: {question}\n",
    "\n",
    "    CONTEXT:\n",
    "    {context}\n",
    "    \"\"\".strip()\n",
    "    \n",
    "    context = \"\"\n",
    "    \n",
    "    for doc in search_results:\n",
    "        context = context + context_template.format(question=doc['_source']['question'], text=doc['_source']['text']).strip() + \"\\n\\n\"\n",
    "    \n",
    "    prompt = prompt_template.format(question=query, context=context).strip()\n",
    "\n",
    "    return prompt"
   ]
  },
  {
   "cell_type": "code",
   "execution_count": 17,
   "id": "62d8325d",
   "metadata": {},
   "outputs": [
    {
     "name": "stdout",
     "output_type": "stream",
     "text": [
      "The length of resulting prompt is: 1490\n"
     ]
    }
   ],
   "source": [
    "resulting_prompt = build_prompt_hw(query_hw, search_results)\n",
    "print(f\"The length of resulting prompt is: {len(resulting_prompt)}\")"
   ]
  },
  {
   "cell_type": "code",
   "execution_count": 18,
   "id": "f5077a32",
   "metadata": {},
   "outputs": [
    {
     "name": "stdout",
     "output_type": "stream",
     "text": [
      "You're a course teaching assistant. Answer the QUESTION based on the CONTEXT from the FAQ database.\n",
      "    Use only the facts from the CONTEXT when answering the QUESTION.\n",
      "\n",
      "    QUESTION: How do I execute a command in a running docker container?\n",
      "\n",
      "    CONTEXT:\n",
      "    Q: How do I debug a docker container?\n",
      "    A: Launch the container image in interactive mode and overriding the entrypoint, so that it starts a bash command.\n",
      "docker run -it --entrypoint bash <image>\n",
      "If the container is already running, execute a command in the specific container:\n",
      "docker ps (find the container-id)\n",
      "docker exec -it <container-id> bash\n",
      "(Marcos MJD)\n",
      "\n",
      "Q: How do I copy files from my local machine to docker container?\n",
      "    A: You can copy files from your local machine into a Docker container using the docker cp command. Here's how to do it:\n",
      "To copy a file or directory from your local machine into a running Docker container, you can use the `docker cp command`. The basic syntax is as follows:\n",
      "docker cp /path/to/local/file_or_directory container_id:/path/in/container\n",
      "Hrithik Kumar Advani\n",
      "\n",
      "Q: How do I copy files from a different folder into docker container’s working directory?\n",
      "    A: You can copy files from your local machine into a Docker container using the docker cp command. Here's how to do it:\n",
      "In the Dockerfile, you can provide the folder containing the files that you want to copy over. The basic syntax is as follows:\n",
      "COPY [\"src/predict.py\", \"models/xgb_model.bin\", \"./\"]\t\t\t\t\t\t\t\t\t\t\tGopakumar Gopinathan\n"
     ]
    }
   ],
   "source": [
    "# Print the resulting prompt\n",
    "print(resulting_prompt)"
   ]
  },
  {
   "cell_type": "markdown",
   "id": "a96cf516",
   "metadata": {},
   "source": [
    "#### Question 6"
   ]
  },
  {
   "cell_type": "code",
   "execution_count": 19,
   "id": "5ed11a90",
   "metadata": {},
   "outputs": [],
   "source": [
    "encoding = tiktoken.encoding_for_model(\"gpt-4o\")"
   ]
  },
  {
   "cell_type": "code",
   "execution_count": 20,
   "id": "2cf2a359",
   "metadata": {},
   "outputs": [
    {
     "name": "stdout",
     "output_type": "stream",
     "text": [
      "The length of list of tokens is: 329\n",
      "\n"
     ]
    }
   ],
   "source": [
    "tokens = encoding.encode(resulting_prompt)\n",
    "print(f\"The length of list of tokens is: {len(tokens)}\\n\")"
   ]
  },
  {
   "cell_type": "code",
   "execution_count": 21,
   "id": "0add5cb9",
   "metadata": {},
   "outputs": [
    {
     "name": "stdout",
     "output_type": "stream",
     "text": [
      "The length of decoded resulting prompt is: 1490\n",
      "\n",
      "Decoded prompt below:\n",
      "\n",
      "You're a course teaching assistant. Answer the QUESTION based on the CONTEXT from the FAQ database.\n",
      "    Use only the facts from the CONTEXT when answering the QUESTION.\n",
      "\n",
      "    QUESTION: How do I execute a command in a running docker container?\n",
      "\n",
      "    CONTEXT:\n",
      "    Q: How do I debug a docker container?\n",
      "    A: Launch the container image in interactive mode and overriding the entrypoint, so that it starts a bash command.\n",
      "docker run -it --entrypoint bash <image>\n",
      "If the container is already running, execute a command in the specific container:\n",
      "docker ps (find the container-id)\n",
      "docker exec -it <container-id> bash\n",
      "(Marcos MJD)\n",
      "\n",
      "Q: How do I copy files from my local machine to docker container?\n",
      "    A: You can copy files from your local machine into a Docker container using the docker cp command. Here's how to do it:\n",
      "To copy a file or directory from your local machine into a running Docker container, you can use the `docker cp command`. The basic syntax is as follows:\n",
      "docker cp /path/to/local/file_or_directory container_id:/path/in/container\n",
      "Hrithik Kumar Advani\n",
      "\n",
      "Q: How do I copy files from a different folder into docker container’s working directory?\n",
      "    A: You can copy files from your local machine into a Docker container using the docker cp command. Here's how to do it:\n",
      "In the Dockerfile, you can provide the folder containing the files that you want to copy over. The basic syntax is as follows:\n",
      "COPY [\"src/predict.py\", \"models/xgb_model.bin\", \"./\"]\t\t\t\t\t\t\t\t\t\t\tGopakumar Gopinathan\n"
     ]
    }
   ],
   "source": [
    "print(f\"The length of decoded resulting prompt is: {len(encoding.decode(tokens))}\\n\")\n",
    "print(\"Decoded prompt below:\\n\")\n",
    "print(encoding.decode(tokens))\n"
   ]
  },
  {
   "cell_type": "markdown",
   "id": "d0683527",
   "metadata": {},
   "source": [
    "#### Bonus: generating the answer (ungraded)"
   ]
  },
  {
   "cell_type": "code",
   "execution_count": 22,
   "id": "8aa9d353",
   "metadata": {},
   "outputs": [],
   "source": [
    "def elastic_rag_hw(query):\n",
    "    search_results = elastic_search_hw(query)\n",
    "    prompt = build_prompt_hw(query, search_results)\n",
    "    answer = llm(prompt)\n",
    "    return answer"
   ]
  },
  {
   "cell_type": "code",
   "execution_count": 23,
   "id": "509c062b",
   "metadata": {},
   "outputs": [],
   "source": [
    "response = elastic_rag_hw(query_hw)"
   ]
  },
  {
   "cell_type": "code",
   "execution_count": 24,
   "id": "802af32d",
   "metadata": {},
   "outputs": [
    {
     "name": "stdout",
     "output_type": "stream",
     "text": [
      "The length of response as a string: 1130\n",
      "\n",
      "The length of list of tokens is: 262\n",
      "\n",
      "Response below:\n",
      "\n",
      "To execute a command in a running Docker container, you can use the `docker exec` command. Here's the syntax:\n",
      "\n",
      "```\n",
      "docker exec -it <container_id_or_name> <command>\n",
      "```\n",
      "\n",
      "Where:\n",
      "\n",
      "- `-it` connects you to the container's terminal interactively (optional, but recommended for running commands like `bash` or `sh`).\n",
      "- `<container_id_or_name>` is either the container ID or the container name.\n",
      "- `<command>` is the command you want to execute inside the container (e.g., `bash`, `ls`, `apt-get install ...`, etc.).\n",
      "\n",
      "For example, to open an interactive Bash shell inside a running container with the ID `abc123`, you would run:\n",
      "\n",
      "```\n",
      "docker exec -it abc123 bash\n",
      "```\n",
      "\n",
      "This will give you a terminal inside the container where you can execute commands as if you were running them directly on the host machine.\n",
      "\n",
      "If you want to execute a single command without opening an interactive shell, you can omit the `-it` flag and specify the command directly:\n",
      "\n",
      "```\n",
      "docker exec abc123 ls -l /path/in/container\n",
      "```\n",
      "\n",
      "This will execute the `ls -l /path/in/container` command inside the container with the ID `abc123` and print the output to your terminal.\n"
     ]
    }
   ],
   "source": [
    "print(f\"The length of response as a string: {len(response)}\\n\")\n",
    "\n",
    "response_tokens = encoding.encode(response)\n",
    "print(f\"The length of list of tokens is: {len(response_tokens)}\\n\")\n",
    "\n",
    "print(\"Response below:\\n\")\n",
    "print(response)"
   ]
  },
  {
   "cell_type": "markdown",
   "id": "20cbda95",
   "metadata": {},
   "source": [
    "#### Bonus: calculating the costs (ungraded)"
   ]
  },
  {
   "cell_type": "code",
   "execution_count": 26,
   "id": "34774d3f",
   "metadata": {},
   "outputs": [
    {
     "name": "stdout",
     "output_type": "stream",
     "text": [
      "The cost for homework task conditions (1000 requests for GPT-4o) is 4.5 US dollars\n",
      "The cost of our request for GPT-4o is 0.005575 US dollars\n",
      "The cost of our request for Claude 3.5 Sonnet is 0.004917 US dollars\n"
     ]
    }
   ],
   "source": [
    "# Calculations for the Homework Task conditions for OpenAI GPT-4o\n",
    "\n",
    "# number of requests\n",
    "requests = 1000\n",
    "# number of tokens\n",
    "input = 150\n",
    "output = 250\n",
    "# the cost per 1000 tokens for OpenAI\n",
    "input_cost = 0.005\n",
    "output_cost = 0.015\n",
    "\n",
    "cost = (input_cost/1000*input + output_cost/1000*output)*requests\n",
    "print(f\"The cost for homework task conditions (1000 requests for GPT-4o) is {cost} US dollars\")\n",
    "\n",
    "# Calculations for the Homework Task for OpenAI GPT-4o for our prompt and response\n",
    "\n",
    "# number of tokens\n",
    "our_input = len(tokens)\n",
    "our_output = len(response_tokens)\n",
    "\n",
    "# the cost per 1000 tokens for OpenAI\n",
    "input_cost = 0.005\n",
    "output_cost = 0.015\n",
    "\n",
    "our_cost = (input_cost/1000*our_input + output_cost/1000*our_output)\n",
    "print(f\"The cost of our request for GPT-4o is {round(our_cost, 7)} US dollars\")\n",
    "\n",
    "# Calculations for the Homework Task for Anthropic Claude 3.5 Sonnet for our prompt\n",
    "\n",
    "# on June 28, the cost per 1000 tokens for Anthropic Claude 3.5 Sonnet (https://www.anthropic.com/pricing#anthropic-api)\n",
    "input_cost = 0.003\n",
    "output_cost = 0.015\n",
    "\n",
    "our_cost = (input_cost/1000*our_input + output_cost/1000*our_output)\n",
    "print(f\"The cost of our request for Claude 3.5 Sonnet is {round(our_cost, 7)} US dollars\")"
   ]
  }
 ],
 "metadata": {
  "kernelspec": {
   "display_name": "Python 3 (ipykernel)",
   "language": "python",
   "name": "python3"
  },
  "language_info": {
   "codemirror_mode": {
    "name": "ipython",
    "version": 3
   },
   "file_extension": ".py",
   "mimetype": "text/x-python",
   "name": "python",
   "nbconvert_exporter": "python",
   "pygments_lexer": "ipython3",
   "version": "3.10.12"
  }
 },
 "nbformat": 4,
 "nbformat_minor": 5
}
