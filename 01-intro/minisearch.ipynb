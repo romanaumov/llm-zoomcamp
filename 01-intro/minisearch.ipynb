{
 "cells": [
  {
   "cell_type": "code",
   "execution_count": 1,
   "id": "9b7859cd-1c8c-45d2-90cd-bbbac764dd83",
   "metadata": {},
   "outputs": [],
   "source": [
    "# !wget https://raw.githubusercontent.com/DataTalksClub/llm-zoomcamp/main/01-intro/minsearch.py"
   ]
  },
  {
   "cell_type": "code",
   "execution_count": 2,
   "id": "3607f74f-9946-4387-988a-a68666ad4790",
   "metadata": {},
   "outputs": [],
   "source": [
    "import minsearch\n",
    "import json\n",
    "import anthropic\n",
    "\n",
    "from IPython.display import Markdown, display\n",
    "from anthropic import HUMAN_PROMPT, AI_PROMPT"
   ]
  },
  {
   "cell_type": "code",
   "execution_count": 3,
   "id": "7c782dcf-1aca-407b-8585-f9d80f300396",
   "metadata": {},
   "outputs": [],
   "source": [
    "client = anthropic.Anthropic(api_key=\"your-api-key\")"
   ]
  },
  {
   "cell_type": "code",
   "execution_count": 4,
   "id": "7b776036-d2d8-4117-af64-7e155cf1b9dc",
   "metadata": {},
   "outputs": [],
   "source": [
    "# !wget https://raw.githubusercontent.com/DataTalksClub/llm-zoomcamp/main/01-intro/documents.json"
   ]
  },
  {
   "cell_type": "code",
   "execution_count": 5,
   "id": "a3c51cba-5503-4bdc-8399-7488d230d978",
   "metadata": {},
   "outputs": [],
   "source": [
    "with open('documents.json', 'rt') as f_in:\n",
    "    docs_raw = json.load(f_in)"
   ]
  },
  {
   "cell_type": "code",
   "execution_count": 6,
   "id": "8db13d13-cb28-4596-9d28-17644a737168",
   "metadata": {},
   "outputs": [],
   "source": [
    "documents = []\n",
    "\n",
    "for course_dict in docs_raw:\n",
    "    for doc in course_dict['documents']:\n",
    "        doc['course'] = course_dict['course']\n",
    "        documents.append(doc)"
   ]
  },
  {
   "cell_type": "code",
   "execution_count": 7,
   "id": "ae8c4c4b-8780-41f5-a70e-b45da47375ac",
   "metadata": {},
   "outputs": [
    {
     "data": {
      "text/plain": [
       "{'text': \"The purpose of this document is to capture frequently asked technical questions\\nThe exact day and hour of the course will be 15th Jan 2024 at 17h00. The course will start with the first  “Office Hours'' live.1\\nSubscribe to course public Google Calendar (it works from Desktop only).\\nRegister before the course starts using this link.\\nJoin the course Telegram channel with announcements.\\nDon’t forget to register in DataTalks.Club's Slack and join the channel.\",\n",
       " 'section': 'General course-related questions',\n",
       " 'question': 'Course - When will the course start?',\n",
       " 'course': 'data-engineering-zoomcamp'}"
      ]
     },
     "execution_count": 7,
     "metadata": {},
     "output_type": "execute_result"
    }
   ],
   "source": [
    "documents[0]"
   ]
  },
  {
   "cell_type": "code",
   "execution_count": 8,
   "id": "ef16d137-f6a6-46ac-b473-f055667d58fa",
   "metadata": {},
   "outputs": [],
   "source": [
    "index = minsearch.Index(\n",
    "    text_fields=[\"question\", \"text\", \"section\"],\n",
    "    keyword_fields=[\"course\"]\n",
    ")"
   ]
  },
  {
   "cell_type": "code",
   "execution_count": 9,
   "id": "ae7db7f8-213b-4b17-903f-16cf959a915d",
   "metadata": {},
   "outputs": [],
   "source": [
    "q = 'the course has already started, can I still enroll?'"
   ]
  },
  {
   "cell_type": "code",
   "execution_count": 10,
   "id": "651e7875-874d-466a-ab3a-f06b586e9989",
   "metadata": {},
   "outputs": [
    {
     "data": {
      "text/plain": [
       "<minsearch.Index at 0x7086beb4e790>"
      ]
     },
     "execution_count": 10,
     "metadata": {},
     "output_type": "execute_result"
    }
   ],
   "source": [
    "index.fit(documents)"
   ]
  },
  {
   "cell_type": "code",
   "execution_count": 14,
   "id": "0b5069f2-0d4a-4557-a754-9a29c7cd9444",
   "metadata": {},
   "outputs": [
    {
     "data": {
      "text/markdown": [
       "I apologize, but I don't have any information about the specific course you're referring to or its enrollment policies. The best way to find out if you can still enroll in the course is to directly contact the institution or department offering the course. They will be able to provide you with accurate and up-to-date information about their enrollment deadlines and any possible exceptions.\n",
       "\n",
       "In general, many courses allow for late enrollment within a certain timeframe after the start date, but this varies greatly depending on the institution and the type of course. Some factors that may affect your ability to enroll after the course has begun include:\n",
       "\n",
       "1. The course's late enrollment policies\n",
       "2. The amount of coursework you would need to catch up on\n",
       "3. The availability of space in the course\n",
       "4. Any prerequisites or requirements you need to fulfill\n",
       "\n",
       "Remember, it's always best to reach out to the course provider directly to get the most accurate and relevant information for your specific situation."
      ],
      "text/plain": [
       "<IPython.core.display.Markdown object>"
      ]
     },
     "execution_count": 14,
     "metadata": {},
     "output_type": "execute_result"
    }
   ],
   "source": [
    "response = client.messages.create(\n",
    "    model=\"claude-3-opus-20240229\",\n",
    "    max_tokens=1024,\n",
    "    messages=[\n",
    "        {\"role\": \"user\", \"content\": q}\n",
    "    ]\n",
    ")\n",
    "Markdown(response.content[0].text)"
   ]
  },
  {
   "cell_type": "code",
   "execution_count": 32,
   "id": "b8ef65e5-0694-4b67-8b3f-a7c91b3381a3",
   "metadata": {},
   "outputs": [],
   "source": [
    "def search(query):\n",
    "    boost = {'question': 3.0, 'section': 0.5}\n",
    "\n",
    "    results = index.search(\n",
    "        query=query,\n",
    "        filter_dict={'course': 'data-engineering-zoomcamp'},\n",
    "        boost_dict=boost,\n",
    "        num_results=5\n",
    "    )\n",
    "    return results"
   ]
  },
  {
   "cell_type": "code",
   "execution_count": 44,
   "id": "25a2378c-3a17-4e18-b738-89699ad04002",
   "metadata": {},
   "outputs": [],
   "source": [
    "def build_prompt(query, search_results):\n",
    "    prompt_template = \"\"\"\n",
    "    You're a course teaching assistant. Answer the QEUSTION based on CONTEXT from the FAQ database.\n",
    "    Use only the facts from the CONTEXT when answering the QUESTION.\n",
    "    If the CONTEXT doesn't contain the answer, output NONE.\n",
    "    \n",
    "    QUESTION: {question}\n",
    "    CONTEXT: \n",
    "    {context}\n",
    "    \"\"\".strip()\n",
    "    \n",
    "    context = \"\"\n",
    "    \n",
    "    for doc in search_results:\n",
    "        context = context + f\"section: {doc['section']}\\nquestion: {doc['question']}\\nanswer: {doc['text']}\\n\\n\"\n",
    "    \n",
    "    prompt = prompt_template.format(question=query, context=context).strip()\n",
    "\n",
    "    return prompt"
   ]
  },
  {
   "cell_type": "code",
   "execution_count": 39,
   "id": "48aa177f-c5e9-4d33-aff3-58869fd227b5",
   "metadata": {},
   "outputs": [],
   "source": [
    "def llm(prompt):\n",
    "    response = client.messages.create(\n",
    "        model=\"claude-3-opus-20240229\",\n",
    "        max_tokens=1024,\n",
    "        messages=[\n",
    "            {\"role\": \"user\", \"content\": prompt}\n",
    "        ]\n",
    "    )\n",
    "    return Markdown(response.content[0].text)"
   ]
  },
  {
   "cell_type": "code",
   "execution_count": 50,
   "id": "9853155d-3310-4a3f-8ed7-17bad0bafa96",
   "metadata": {},
   "outputs": [],
   "source": [
    "query1 = 'the course has already started, can I still enroll?'\n",
    "query2 = 'how do I run kafka?'"
   ]
  },
  {
   "cell_type": "code",
   "execution_count": 49,
   "id": "33d53aa1-df84-4cb4-bc2c-f3f7536b2fb8",
   "metadata": {},
   "outputs": [],
   "source": [
    "def rag(query):\n",
    "    search_results = search(query)\n",
    "    prompt = build_prompt(query, search_results)\n",
    "    answer = llm(prompt)\n",
    "    return answer"
   ]
  },
  {
   "cell_type": "code",
   "execution_count": 51,
   "id": "bbd3affe-06b9-4e73-9aa3-177cb1b34b0b",
   "metadata": {},
   "outputs": [
    {
     "data": {
      "text/markdown": [
       "Yes, even if you don't register, you're still eligible to submit the homeworks. Be aware, however, that there will be deadlines for turning in the final projects. So don't leave everything for the last minute."
      ],
      "text/plain": [
       "<IPython.core.display.Markdown object>"
      ]
     },
     "execution_count": 51,
     "metadata": {},
     "output_type": "execute_result"
    }
   ],
   "source": [
    "rag(query1)"
   ]
  },
  {
   "cell_type": "code",
   "execution_count": 52,
   "id": "c15edd4f-68e4-4f46-84c9-4c41cbc45e9f",
   "metadata": {},
   "outputs": [
    {
     "data": {
      "text/markdown": [
       "To run Kafka, first ensure that the necessary Docker images are up and running. Then, depending on the programming language you are using:\n",
       "\n",
       "For Java:\n",
       "In the project directory, run:\n",
       "java -cp build/libs/<jar_name>-1.0-SNAPSHOT.jar:out src/main/java/org/example/JsonProducer.java\n",
       "\n",
       "For Python: \n",
       "Create a virtual environment, activate it, and install the required packages from requirements.txt:\n",
       "python -m venv env\n",
       "source env/bin/activate\n",
       "pip install -r ../requirements.txt\n",
       "\n",
       "Then you can run the Python Kafka producer/consumer files within this virtual environment.\n",
       "\n",
       "Note: Due to issues with the kafka-python package, it is recommended to use kafka-python-ng instead:\n",
       "pip install kafka-python-ng"
      ],
      "text/plain": [
       "<IPython.core.display.Markdown object>"
      ]
     },
     "execution_count": 52,
     "metadata": {},
     "output_type": "execute_result"
    }
   ],
   "source": [
    "rag(query2)"
   ]
  }
 ],
 "metadata": {
  "kernelspec": {
   "display_name": "Python 3 (ipykernel)",
   "language": "python",
   "name": "python3"
  },
  "language_info": {
   "codemirror_mode": {
    "name": "ipython",
    "version": 3
   },
   "file_extension": ".py",
   "mimetype": "text/x-python",
   "name": "python",
   "nbconvert_exporter": "python",
   "pygments_lexer": "ipython3",
   "version": "3.11.7"
  }
 },
 "nbformat": 4,
 "nbformat_minor": 5
}
