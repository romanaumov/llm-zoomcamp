{
 "cells": [
  {
   "cell_type": "code",
   "execution_count": 1,
   "id": "98b6ce11-ff8a-4303-8211-c3ec726d9299",
   "metadata": {},
   "outputs": [],
   "source": [
    "import anthropic"
   ]
  },
  {
   "cell_type": "code",
   "execution_count": 2,
   "id": "be310879-62cb-4419-8f5b-60f1ea0d2856",
   "metadata": {},
   "outputs": [],
   "source": [
    "client = anthropic.Anthropic(api_key=\"your-api-key\")"
   ]
  },
  {
   "cell_type": "code",
   "execution_count": 4,
   "id": "9a7e5a4e-33d2-4c1f-8bfb-45bcb2c8016f",
   "metadata": {},
   "outputs": [],
   "source": [
    "from IPython.display import Markdown, display\n",
    "from anthropic import HUMAN_PROMPT, AI_PROMPT"
   ]
  },
  {
   "cell_type": "code",
   "execution_count": 5,
   "id": "614aeeff-09e1-4b0f-9ae0-18b182bbda5a",
   "metadata": {},
   "outputs": [
    {
     "data": {
      "text/markdown": [
       "An onion is a vegetable that belongs to the Allium genus, which also includes garlic, shallots, leeks, and chives. Here are some key characteristics of onions:\n",
       "\n",
       "1. Appearance: Onions are round or oval-shaped bulbs with papery skin that can be white, yellow, red, or purple.\n",
       "\n",
       "2. Layers: Onions consist of multiple layers of fleshy scales, which are arranged concentrically around the core.\n",
       "\n",
       "3. Flavor: They have a distinctive, pungent flavor and aroma due to sulfur-containing compounds released when the onion is cut or crushed.\n",
       "\n",
       "4. Culinary uses: Onions are widely used in cooking as a base for various dishes, such as soups, stews, sauces, and stir-fries. They can be eaten raw, sautéed, caramelized, or roasted.\n",
       "\n",
       "5. Health benefits: Onions are low in calories and rich in vitamins (C and B6), minerals (potassium and folate), and antioxidants (quercetin). They may offer potential health benefits, such as reducing the risk of certain cancers and heart disease.\n",
       "\n",
       "6. Tear-inducing properties: Cutting onions releases a volatile compound called syn-propanethial-S-oxide, which irritates the eyes and causes tears.\n",
       "\n",
       "Onions are a staple ingredient in many cuisines worldwide and are prized for their versatility and flavor-enhancing properties."
      ],
      "text/plain": [
       "<IPython.core.display.Markdown object>"
      ]
     },
     "execution_count": 5,
     "metadata": {},
     "output_type": "execute_result"
    }
   ],
   "source": [
    "Prompt = \"What ia an onion?\"\n",
    "message = client.messages.create(\n",
    "    model=\"claude-3-opus-20240229\",\n",
    "    max_tokens=1024,\n",
    "    messages=[\n",
    "        {\"role\": \"user\", \"content\": Prompt}\n",
    "    ]\n",
    ")\n",
    "Markdown(message.content[0].text)"
   ]
  }
 ],
 "metadata": {
  "kernelspec": {
   "display_name": "Python 3 (ipykernel)",
   "language": "python",
   "name": "python3"
  },
  "language_info": {
   "codemirror_mode": {
    "name": "ipython",
    "version": 3
   },
   "file_extension": ".py",
   "mimetype": "text/x-python",
   "name": "python",
   "nbconvert_exporter": "python",
   "pygments_lexer": "ipython3",
   "version": "3.10.13"
  }
 },
 "nbformat": 4,
 "nbformat_minor": 5
}
